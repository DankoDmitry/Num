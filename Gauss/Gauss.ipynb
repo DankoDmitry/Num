{
 "cells": [
  {
   "cell_type": "code",
   "execution_count": 2,
   "metadata": {},
   "outputs": [],
   "source": [
    "import numpy as np"
   ]
  },
  {
   "cell_type": "code",
   "execution_count": 3,
   "metadata": {},
   "outputs": [],
   "source": [
    "def Gauss_prob(a, b):\n",
    "    X = np.zeros(len(a))\n",
    "    U = a.copy()\n",
    "    L = np.identity(len(a))\n",
    "    B = b.copy()\n",
    "    L_In = L.copy()\n",
    "\n",
    "\n",
    "    for i in range(len(U)):\n",
    "        if U[i,i] != 0:\n",
    "            for j in range(i+1, len(U)):\n",
    "                L[j,i] = U[j,i]/U[i,i]\n",
    "                U[j] = U[j] - U[j,i]*U[i]/U[i,i]\n",
    "\n",
    "    for i in range(len(U)-1, -1, -1):\n",
    "        for j in range(i-1, -1, -1):\n",
    "            L_In[i,j] = -L_In[i]@L[:,j]\n",
    "\n",
    "    B = L_In@b\n",
    "\n",
    "    for i in range(len(U)-1, -1, -1):\n",
    "        s = 0\n",
    "        for j in range(i, len(U)):\n",
    "            s = s + X[j]*U[i,j]\n",
    "        X[i] = (B[i] - s)/U[i,i] \n",
    "    \n",
    "    return(L,U,B,X)"
   ]
  },
  {
   "cell_type": "markdown",
   "metadata": {},
   "source": [
    "Напишем функцию для решение матрицы методом Гаусса"
   ]
  },
  {
   "cell_type": "code",
   "execution_count": 41,
   "metadata": {},
   "outputs": [],
   "source": [
    "N = 2000\n",
    "\n",
    "def F(n):\n",
    "    a = np.zeros((n, n))\n",
    "    for i in range(n):\n",
    "        for j in range(n):\n",
    "            a[i, j] = 1/(i + j + 1)\n",
    "    return(a)\n",
    "\n",
    "b = np.ones(N)"
   ]
  },
  {
   "cell_type": "code",
   "execution_count": 42,
   "metadata": {},
   "outputs": [],
   "source": [
    "def Gauss_LU(a):\n",
    "    U = a.copy()\n",
    "    L = np.identity(len(a))\n",
    "\n",
    "    for i in range(len(U)):\n",
    "        if U[i,i] != 0:\n",
    "            for j in range(i+1, len(U)):\n",
    "                L[j,i] = U[j,i]/U[i,i]\n",
    "                U[j] = U[j] - U[j,i]*U[i]/U[i,i]\n",
    "    \n",
    "    return(L,U)\n",
    "\n",
    "def Gauss_B(L, b):\n",
    "    B = np.zeros(N)\n",
    "\n",
    "    for i in range(len(B)):\n",
    "        s = 0\n",
    "        for j in range(i+1):\n",
    "            s = s + B[j]*L[i,j]\n",
    "        B[i] = (b[i] - s)/L[i,i] \n",
    "\n",
    "    \n",
    "    return(B)\n",
    "\n",
    "L, U = Gauss_LU(F(N))\n",
    "\n",
    "def Gauss(L, U, b):\n",
    "    X = np.zeros(len(b))\n",
    "\n",
    "    B = Gauss_B(L, b)\n",
    "\n",
    "    for i in range(len(U)-1, -1, -1):\n",
    "        s = 0\n",
    "        for j in range(i, len(U)):\n",
    "            s = s + X[j]*U[i,j]\n",
    "        X[i] = (B[i] - s)/U[i,i] \n",
    "    \n",
    "    return X"
   ]
  },
  {
   "cell_type": "code",
   "execution_count": 43,
   "metadata": {},
   "outputs": [],
   "source": [
    "X1 = Gauss(L, U, b)\n",
    "# print(X1)"
   ]
  },
  {
   "cell_type": "code",
   "execution_count": 44,
   "metadata": {},
   "outputs": [],
   "source": [
    "def gaussElim(a,b):\n",
    "    n = len(b)\n",
    "    # Elimination phase\n",
    "    for k in range(0,n-1):\n",
    "        for i in range(k+1,n):\n",
    "            if a[i,k] != 0.0:\n",
    "                #if not null define λ\n",
    "                lam = a [i,k]/a[k,k]\n",
    "                #we calculate the new row of the matrix\n",
    "                a[i,k+1:n] = a[i,k+1:n] - lam*a[k,k+1:n]\n",
    "                #we update vector b\n",
    "                b[i] = b[i] - lam*b[k]\n",
    "                # backward substitution\n",
    "    for k in range(n-1,-1,-1):\n",
    "        b[k] = (b[k] - np.dot(a[k,k+1:n],b[k+1:n]))/a[k,k]\n",
    "    \n",
    "    return b"
   ]
  },
  {
   "cell_type": "code",
   "execution_count": 45,
   "metadata": {},
   "outputs": [],
   "source": [
    "X2 = gaussElim(F(N),b)"
   ]
  },
  {
   "cell_type": "code",
   "execution_count": null,
   "metadata": {},
   "outputs": [],
   "source": []
  }
 ],
 "metadata": {
  "kernelspec": {
   "display_name": "Python 3",
   "language": "python",
   "name": "python3"
  },
  "language_info": {
   "codemirror_mode": {
    "name": "ipython",
    "version": 3
   },
   "file_extension": ".py",
   "mimetype": "text/x-python",
   "name": "python",
   "nbconvert_exporter": "python",
   "pygments_lexer": "ipython3",
   "version": "3.10.6"
  }
 },
 "nbformat": 4,
 "nbformat_minor": 2
}
