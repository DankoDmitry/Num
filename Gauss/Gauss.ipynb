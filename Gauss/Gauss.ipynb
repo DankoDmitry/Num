{
 "cells": [
  {
   "cell_type": "code",
   "execution_count": 1,
   "metadata": {},
   "outputs": [],
   "source": [
    "import numpy as np"
   ]
  },
  {
   "cell_type": "code",
   "execution_count": 2,
   "metadata": {},
   "outputs": [],
   "source": [
    "def Gauss_prob(a, b):\n",
    "    X = np.zeros(len(a))\n",
    "    U = a.copy()\n",
    "    L = np.identity(len(a))\n",
    "    B = b.copy()\n",
    "    L_In = L.copy()\n",
    "\n",
    "\n",
    "    for i in range(len(U)):\n",
    "        if U[i,i] != 0:\n",
    "            for j in range(i+1, len(U)):\n",
    "                L[j,i] = U[j,i]/U[i,i]\n",
    "                U[j] = U[j] - U[j,i]*U[i]/U[i,i]\n",
    "\n",
    "    for i in range(len(U)-1, -1, -1):\n",
    "        for j in range(i-1, -1, -1):\n",
    "            L_In[i,j] = -L_In[i]@L[:,j]\n",
    "\n",
    "    B = L_In@b\n",
    "\n",
    "    for i in range(len(U)-1, -1, -1):\n",
    "        s = 0\n",
    "        for j in range(i, len(U)):\n",
    "            s = s + X[j]*U[i,j]\n",
    "        X[i] = (B[i] - s)/U[i,i] \n",
    "    \n",
    "    return(L,U,B,X)"
   ]
  },
  {
   "cell_type": "markdown",
   "metadata": {},
   "source": [
    "Напишем функцию для решение матрицы методом Гаусса"
   ]
  },
  {
   "cell_type": "code",
   "execution_count": 3,
   "metadata": {},
   "outputs": [
    {
     "name": "stdout",
     "output_type": "stream",
     "text": [
      "[1. 1. 1. 1.]\n"
     ]
    }
   ],
   "source": [
    "N = 4\n",
    "\n",
    "def F(n):\n",
    "    a = np.zeros((n, n))\n",
    "    for i in range(n):\n",
    "        for j in range(n):\n",
    "            a[i, j] = 1/(i + j + 1)\n",
    "    return(a)\n",
    "\n",
    "# def messure(A):\n",
    "\n",
    "# def F(n):\n",
    "#     a = np.zeros((n, n))\n",
    "#     for i in range(n):\n",
    "#         for j in range(n):\n",
    "#             if i == j: a[i, j] = 0\n",
    "#             elif i == j + 1 or i == j - 1: a[i, j] = 1\n",
    "#             else: a[i, j] = 0 \n",
    "#     return(a)\n",
    "\n",
    "b = np.ones(N)\n",
    "\n",
    "# for i in range(N):\n",
    "#     b[i] = 1/(i + 1)\n",
    "\n",
    "print(b)\n",
    "\n",
    "# F(N)"
   ]
  },
  {
   "cell_type": "code",
   "execution_count": 5,
   "metadata": {},
   "outputs": [],
   "source": [
    "def Gauss_LU(a):\n",
    "    U = a.copy()\n",
    "    L = np.identity(len(a))\n",
    "\n",
    "    for i in range(len(U)):\n",
    "        if U[i,i] != 0:\n",
    "            for j in range(i+1, len(U)):\n",
    "                L[j,i] = U[j,i]/U[i,i]\n",
    "                U[j] = U[j] - U[j,i]*U[i]/U[i,i]\n",
    "    \n",
    "    return(L,U)\n",
    "\n",
    "def Gauss_B(L, b):\n",
    "    B = np.zeros(N)\n",
    "    print(\"b = \", b)\n",
    "\n",
    "    for i in range(len(B)):\n",
    "        s = 0\n",
    "        for j in range(i+1):\n",
    "            s = s + B[j]*L[i,j]\n",
    "        B[i] = (b[i] - s)/L[i,i] \n",
    "    \n",
    "    return(B)\n",
    "\n",
    "L, U = Gauss_LU(F(N))\n",
    "\n",
    "def Gauss(L, U, b):\n",
    "    X = np.zeros(len(b))\n",
    "\n",
    "    B = Gauss_B(L, b)\n",
    "\n",
    "    for i in range(len(U)-1, -1, -1):\n",
    "        s = 0\n",
    "        for j in range(i, len(U)):\n",
    "            s = s + X[j]*U[i,j]\n",
    "        X[i] = (B[i] - s)/U[i,i] \n",
    "    \n",
    "    print (\"B = \", B)\n",
    "    \n",
    "    return X"
   ]
  },
  {
   "cell_type": "code",
   "execution_count": 6,
   "metadata": {},
   "outputs": [
    {
     "name": "stdout",
     "output_type": "stream",
     "text": [
      "b =  [1. 1. 1. 1.]\n",
      "B =  [1.         0.5        0.16666667 0.05      ]\n",
      "[[1.         0.         0.         0.        ]\n",
      " [0.5        1.         0.         0.        ]\n",
      " [0.33333333 1.         1.         0.        ]\n",
      " [0.25       0.9        1.5        1.        ]] \n",
      "\n",
      " [[1.00000000e+00 5.00000000e-01 3.33333333e-01 2.50000000e-01]\n",
      " [0.00000000e+00 8.33333333e-02 8.33333333e-02 7.50000000e-02]\n",
      " [0.00000000e+00 0.00000000e+00 5.55555556e-03 8.33333333e-03]\n",
      " [0.00000000e+00 0.00000000e+00 0.00000000e+00 3.57142857e-04]] \n",
      "\n",
      " [  -4.   60. -180.  140.]\n"
     ]
    }
   ],
   "source": [
    "X1 = Gauss(L, U, b)\n",
    "print(L, '\\n\\n', U, '\\n\\n', X1)\n",
    "\n",
    "X = L@U\n",
    "\n",
    "# print(X - F(N))\n",
    "\n",
    "\n"
   ]
  },
  {
   "cell_type": "code",
   "execution_count": 7,
   "metadata": {},
   "outputs": [],
   "source": [
    "def gaussElim(a,b):\n",
    "    n = len(b)\n",
    "    # Elimination phase\n",
    "    for k in range(0,n-1):\n",
    "        for i in range(k+1,n):\n",
    "            if a[i,k] != 0.0:\n",
    "                #if not null define λ\n",
    "                lam = a [i,k]/a[k,k]\n",
    "                #we calculate the new row of the matrix\n",
    "                a[i,k+1:n] = a[i,k+1:n] - lam*a[k,k+1:n]\n",
    "                #we update vector b\n",
    "                b[i] = b[i] - lam*b[k]\n",
    "                # backward substitution\n",
    "    for k in range(n-1,-1,-1):\n",
    "        b[k] = (b[k] - np.dot(a[k,k+1:n],b[k+1:n]))/a[k,k]\n",
    "    \n",
    "    return b"
   ]
  },
  {
   "cell_type": "code",
   "execution_count": 8,
   "metadata": {},
   "outputs": [],
   "source": [
    "X2 = gaussElim(F(N),b)"
   ]
  },
  {
   "cell_type": "code",
   "execution_count": 9,
   "metadata": {},
   "outputs": [
    {
     "data": {
      "text/plain": [
       "2"
      ]
     },
     "execution_count": 9,
     "metadata": {},
     "output_type": "execute_result"
    }
   ],
   "source": [
    "len(np.shape(L))"
   ]
  },
  {
   "cell_type": "code",
   "execution_count": 12,
   "metadata": {},
   "outputs": [
    {
     "name": "stdout",
     "output_type": "stream",
     "text": [
      "[array([0.21821789, 0.43643578, 0.87287156]), array([ 0.97590007, -0.09759001, -0.19518001]), array([ 4.96506831e-16, -8.94427191e-01,  4.47213595e-01])]\n"
     ]
    }
   ],
   "source": [
    "def scl(u,v):\n",
    "    s = 0\n",
    "    for k in range(len(u)):\n",
    "        s += u[k]*v[k]\n",
    "    return s\n",
    "\n",
    "v = [[1,2,4],\n",
    "     [2,1,2],\n",
    "     [1,0,3]]\n",
    "\n",
    "q = [[0,0,0],\n",
    "     [0,0,0],\n",
    "     [0,0,0]]\n",
    "\n",
    "h = [[0,0,0],\n",
    "     [0,0,0],\n",
    "     [0,0,0]]\n",
    "\n",
    "for k in range(len(v)):\n",
    "    s = [0,0,0]\n",
    "    for i in range(k):\n",
    "        s += scl(v[k],q[i]) * q[i]\n",
    "\n",
    "    for j in range(len(h)):\n",
    "        h[k][j] = v[k][j] - s[j]\n",
    "    \n",
    "    q[k] = h[k]/np.sqrt(scl(h[k],h[k]))\n",
    "\n",
    "\n",
    "for i in range(len(h)-1, -1, -1):\n",
    "    \n",
    "\n",
    "\n",
    "print (q)\n"
   ]
  }
 ],
 "metadata": {
  "kernelspec": {
   "display_name": "Python 3",
   "language": "python",
   "name": "python3"
  },
  "language_info": {
   "codemirror_mode": {
    "name": "ipython",
    "version": 3
   },
   "file_extension": ".py",
   "mimetype": "text/x-python",
   "name": "python",
   "nbconvert_exporter": "python",
   "pygments_lexer": "ipython3",
   "version": "3.10.6"
  }
 },
 "nbformat": 4,
 "nbformat_minor": 2
}
